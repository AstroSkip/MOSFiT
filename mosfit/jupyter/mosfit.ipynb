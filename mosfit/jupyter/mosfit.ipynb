{
 "cells": [
  {
   "cell_type": "code",
   "execution_count": null,
   "metadata": {
    "collapsed": false,
    "scrolled": false
   },
   "outputs": [],
   "source": [
    "%matplotlib inline\n",
    "%config InlineBackend.figure_format='retina'\n",
    "\n",
    "import corner\n",
    "import json\n",
    "import matplotlib.pyplot as plt\n",
    "import numpy as np\n",
    "from mosfit.plotting import bandcolorf\n",
    "\n",
    "with open('../products/walkers.json', 'r') as f:\n",
    "    data = json.loads(f.read())\n",
    "\n",
    "photo = data['photometry']\n",
    "model = data['models'][0]\n",
    "\n",
    "real_data = len([x for x in photo if 'realization' not in x]) > 0\n",
    "\n",
    "band_names = list(set([x['band'] for x in photo]))\n",
    "\n",
    "fig = plt.figure(figsize=(12,6))\n",
    "used_bands = []\n",
    "for band in band_names:\n",
    "    for wi in range(1, len(model['realizations'])):\n",
    "        xs, ys = zip(*[\n",
    "            (x['time'], x['magnitude']) for x in photo\n",
    "            if x.get('realization', None) == str(wi) and x['band'] == band])\n",
    "        label = '' if band in used_bands else band\n",
    "        plt.plot(xs, ys, c=bandcolorf(band), label=label, linewidth=0.5)\n",
    "        used_bands = list(set(used_bands + [band]))\n",
    "    if real_data:\n",
    "        for s in range(2):\n",
    "            if s == 0:\n",
    "                cond = True\n",
    "                symb = 'v'\n",
    "            else:\n",
    "                cond = False\n",
    "                symb = 'o'\n",
    "            vec = [(float(x['time']), float(x['magnitude']), float(x.get('e_magnitude', 0.0))) for x in photo\n",
    "                   if 'realization' not in x and x.get('band', '') == band and\n",
    "                   x.get('upperlimit', False) == cond]\n",
    "            if not len(vec):\n",
    "                continue\n",
    "            xs, ys, yes = zip(*vec)\n",
    "            plt.errorbar(xs, ys, yerr=yes, color=bandcolorf(band), fmt=symb,\n",
    "                         label=(band if real_data or band not in used_bands else ''),\n",
    "                         markeredgecolor='black', markeredgewidth=1, capsize=5,\n",
    "                         elinewidth=2, capthick=2, zorder=10)\n",
    "            plt.errorbar(xs, ys, yerr=yes, color='k', fmt=symb, capsize=6,\n",
    "                         elinewidth=3, capthick=3, zorder=5)\n",
    "plt.gca().invert_yaxis()\n",
    "plt.margins(0.1,0.1)\n",
    "plt.legend()\n",
    "plt.show()\n",
    "fig.savefig('../products/lc.pdf')\n",
    "\n",
    "# Construct walker arrays for corner\n",
    "print('Preparing corner plot, takes some time.')\n",
    "corner_input = []\n",
    "for realization in model['realizations']:\n",
    "    pars = realization['parameters']\n",
    "    var_names = ['$' + ('\\\\log\\\\, ' if pars[x]['log'] else '') +\n",
    "                 pars[x]['latex'] + '$' for x in pars]\n",
    "    corner_input.append([np.log10(pars[x]['value']) if\n",
    "                         pars[x]['log'] else pars[x]['value'] for x in pars])\n",
    "cfig = corner.corner(corner_input, labels=var_names)\n",
    "cfig.savefig('../products/corner.pdf')"
   ]
  },
  {
   "cell_type": "code",
   "execution_count": null,
   "metadata": {
    "collapsed": false
   },
   "outputs": [],
   "source": []
  }
 ],
 "metadata": {
  "anaconda-cloud": {},
  "kernelspec": {
   "display_name": "Python 3",
   "language": "python",
   "name": "python3"
  },
  "language_info": {
   "codemirror_mode": {
    "name": "ipython",
    "version": 3
   },
   "file_extension": ".py",
   "mimetype": "text/x-python",
   "name": "python",
   "nbconvert_exporter": "python",
   "pygments_lexer": "ipython3",
   "version": "3.5.2"
  }
 },
 "nbformat": 4,
 "nbformat_minor": 0
}
