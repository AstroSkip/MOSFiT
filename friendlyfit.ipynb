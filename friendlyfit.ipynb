{
 "cells": [
  {
   "cell_type": "code",
   "execution_count": null,
   "metadata": {
    "collapsed": false
   },
   "outputs": [],
   "source": [
    "%matplotlib inline\n",
    "%config InlineBackend.figure_format='retina'\n",
    "\n",
    "import json\n",
    "import matplotlib.pyplot as plt\n",
    "from friendlyfit.plotting import bandcolorf\n",
    "\n",
    "with open('products/walkers.json', 'r') as f:\n",
    "    data = json.loads(f.read())\n",
    "\n",
    "# Find best scoring walker\n",
    "max_score = max([data[x]['score'] for x in data])\n",
    "for x in data:\n",
    "    if data[x]['score'] == max_score:\n",
    "        data = data[x]\n",
    "        break\n",
    "band_names = list(set(data['bands']))\n",
    "\n",
    "fig = plt.figure(figsize=(12,6))\n",
    "for band in band_names:\n",
    "    xs, ys = zip(*[\n",
    "        [x, y] for x, y, z in\n",
    "        zip(data['times'], data['model_magnitudes'], data['bands'])\n",
    "        if z == band])\n",
    "    plt.plot(xs, ys, c=bandcolorf(band))\n",
    "    xs, ys, yes = zip(*[\n",
    "        [x, y, ye] for x, y, ye, z in\n",
    "        zip(data['times'], data['magnitudes'], data['e_magnitudes'], data['bands'])\n",
    "        if z == band])\n",
    "    plt.errorbar(xs, ys, yerr=yes, c=bandcolorf(band), fmt='o', label=band)\n",
    "plt.gca().invert_yaxis()\n",
    "plt.margins(0.1,0.1)\n",
    "plt.legend()\n",
    "plt.show()\n",
    "fig.savefig('products/lc.png')"
   ]
  },
  {
   "cell_type": "code",
   "execution_count": null,
   "metadata": {
    "collapsed": true
   },
   "outputs": [],
   "source": []
  }
 ],
 "metadata": {
  "kernelspec": {
   "display_name": "Python 3",
   "language": "python",
   "name": "python3"
  },
  "language_info": {
   "codemirror_mode": {
    "name": "ipython",
    "version": 3
   },
   "file_extension": ".py",
   "mimetype": "text/x-python",
   "name": "python",
   "nbconvert_exporter": "python",
   "pygments_lexer": "ipython3",
   "version": "3.5.1"
  },
  "widgets": {
   "state": {},
   "version": "1.1.2"
  }
 },
 "nbformat": 4,
 "nbformat_minor": 0
}
